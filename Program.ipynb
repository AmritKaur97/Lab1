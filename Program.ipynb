{
  "nbformat": 4,
  "nbformat_minor": 0,
  "metadata": {
    "colab": {
      "provenance": []
    },
    "kernelspec": {
      "name": "python3",
      "display_name": "Python 3"
    },
    "language_info": {
      "name": "python"
    }
  },
  "cells": [
    {
      "cell_type": "code",
      "execution_count": 4,
      "metadata": {
        "colab": {
          "base_uri": "https://localhost:8080/"
        },
        "id": "nEk0s_EA7aYq",
        "outputId": "24d0a803-da61-440d-8bd7-4c26ae5f758c"
      },
      "outputs": [
        {
          "output_type": "stream",
          "name": "stdout",
          "text": [
            "Maximum value in the list: 20\n",
            "Minimum value in the list: 3\n",
            "Original List: [10, 5, 8, 20, 3]\n",
            "Sorted List: [3, 5, 8, 10, 20]\n",
            "50 is not a perfect square.\n"
          ]
        }
      ],
      "source": [
        "def maximum_value(lst):\n",
        "    return max(lst)\n",
        "\n",
        "def minimum_value(lst):\n",
        "    return min(lst)\n",
        "\n",
        "def sort_list_ascending(lst):\n",
        "    return sorted(lst)\n",
        "\n",
        "def is_perfect_square(number):\n",
        "    square_root = number ** 0.5\n",
        "    return square_root.is_integer()\n",
        "\n",
        "# maximum value in a list\n",
        "numbers = [10, 5, 8, 20, 3]\n",
        "maximum_value = maximum_value(numbers)\n",
        "print(\"Maximum value in the list:\", maximum_value)\n",
        "\n",
        "# minimum value in a list\n",
        "minimum_value = minimum_value(numbers)\n",
        "print(\"Minimum value in the list:\", minimum_value)\n",
        "\n",
        "# Sorting a list in ascending order\n",
        "sorted_list = sort_list_ascending(numbers)\n",
        "print(\"Original List:\", numbers)\n",
        "print(\"Sorted List:\", sorted_list)\n",
        "\n",
        "# Checking if a number is a perfect square\n",
        "number = 50\n",
        "if is_perfect_square(number):\n",
        "    print(number, \"is a perfect square.\")\n",
        "else:\n",
        "    print(number, \"is not a perfect square.\")\n"
      ]
    }
  ]
}